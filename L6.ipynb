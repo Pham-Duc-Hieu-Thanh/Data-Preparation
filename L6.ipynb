{
  "nbformat": 4,
  "nbformat_minor": 0,
  "metadata": {
    "colab": {
      "name": "L6",
      "provenance": [],
      "collapsed_sections": []
    },
    "kernelspec": {
      "name": "python3",
      "display_name": "Python 3"
    },
    "language_info": {
      "name": "python"
    }
  },
  "cells": [
    {
      "cell_type": "code",
      "metadata": {
        "id": "-wZO5rczCJmv"
      },
      "source": [
        "import matplotlib.pyplot as plt\n",
        "import numpy as np\n",
        "import pandas as pd"
      ],
      "execution_count": 73,
      "outputs": []
    },
    {
      "cell_type": "code",
      "metadata": {
        "colab": {
          "base_uri": "https://localhost:8080/"
        },
        "id": "PdxNcMGXLF1u",
        "outputId": "6d622932-3b17-450a-a940-282a46d3df1a"
      },
      "source": [
        "plt.style.available"
      ],
      "execution_count": 74,
      "outputs": [
        {
          "output_type": "execute_result",
          "data": {
            "text/plain": [
              "['Solarize_Light2',\n",
              " '_classic_test_patch',\n",
              " 'bmh',\n",
              " 'classic',\n",
              " 'dark_background',\n",
              " 'fast',\n",
              " 'fivethirtyeight',\n",
              " 'ggplot',\n",
              " 'grayscale',\n",
              " 'seaborn',\n",
              " 'seaborn-bright',\n",
              " 'seaborn-colorblind',\n",
              " 'seaborn-dark',\n",
              " 'seaborn-dark-palette',\n",
              " 'seaborn-darkgrid',\n",
              " 'seaborn-deep',\n",
              " 'seaborn-muted',\n",
              " 'seaborn-notebook',\n",
              " 'seaborn-paper',\n",
              " 'seaborn-pastel',\n",
              " 'seaborn-poster',\n",
              " 'seaborn-talk',\n",
              " 'seaborn-ticks',\n",
              " 'seaborn-white',\n",
              " 'seaborn-whitegrid',\n",
              " 'tableau-colorblind10']"
            ]
          },
          "metadata": {},
          "execution_count": 74
        }
      ]
    },
    {
      "cell_type": "code",
      "metadata": {
        "id": "qM8iDwY2G4Gq"
      },
      "source": [
        "plt.style.use('seaborn')"
      ],
      "execution_count": 75,
      "outputs": []
    },
    {
      "cell_type": "code",
      "metadata": {
        "colab": {
          "base_uri": "https://localhost:8080/",
          "height": 379
        },
        "id": "wpzf3Hp4GpSn",
        "outputId": "6aa21b33-7437-4a06-fc17-e2c55811add0"
      },
      "source": [
        "#Draw sigmoid function\n",
        "x=np.linspace(-10,10,100)\n",
        "z = 1/(1+np.exp(-x))\n",
        "plt.plot(x,z,':*b')\n",
        "plt.title('sigmoid')\n",
        "plt.plot()"
      ],
      "execution_count": 76,
      "outputs": [
        {
          "output_type": "execute_result",
          "data": {
            "text/plain": [
              "[]"
            ]
          },
          "metadata": {},
          "execution_count": 76
        },
        {
          "output_type": "display_data",
          "data": {
            "image/png": "[encoded data removed]",
            "text/plain": [
              "<Figure size 576x396 with 1 Axes>"
            ]
          },
          "metadata": {}
        }
      ]
    },
    {
      "cell_type": "markdown",
      "metadata": {
        "id": "sJqzS3yThxMj"
      },
      "source": [
        "**Exercise 1**"
      ]
    },
    {
      "cell_type": "code",
      "metadata": {
        "id": "I5iugQ5SLNJa",
        "colab": {
          "base_uri": "https://localhost:8080/",
          "height": 203
        },
        "outputId": "5c5ad41d-aaf7-46b3-ef57-ec4a7f8b6d3f"
      },
      "source": [
        "fb_stock = pd.read_csv('/content/fb_stock_prices_2018.csv')\n",
        "fb_stock.head()"
      ],
      "execution_count": 77,
      "outputs": [
        {
          "output_type": "execute_result",
          "data": {
            "text/html": [
              "<div>\n",
              "<style scoped>\n",
              "    .dataframe tbody tr th:only-of-type {\n",
              "        vertical-align: middle;\n",
              "    }\n",
              "\n",
              "    .dataframe tbody tr th {\n",
              "        vertical-align: top;\n",
              "    }\n",
              "\n",
              "    .dataframe thead th {\n",
              "        text-align: right;\n",
              "    }\n",
              "</style>\n",
              "<table border=\"1\" class=\"dataframe\">\n",
              "  <thead>\n",
              "    <tr style=\"text-align: right;\">\n",
              "      <th></th>\n",
              "      <th>date</th>\n",
              "      <th>open</th>\n",
              "      <th>high</th>\n",
              "      <th>low</th>\n",
              "      <th>close</th>\n",
              "      <th>volume</th>\n",
              "    </tr>\n",
              "  </thead>\n",
              "  <tbody>\n",
              "    <tr>\n",
              "      <th>0</th>\n",
              "      <td>2018-01-02</td>\n",
              "      <td>177.68</td>\n",
              "      <td>181.58</td>\n",
              "      <td>177.5500</td>\n",
              "      <td>181.42</td>\n",
              "      <td>18151903</td>\n",
              "    </tr>\n",
              "    <tr>\n",
              "      <th>1</th>\n",
              "      <td>2018-01-03</td>\n",
              "      <td>181.88</td>\n",
              "      <td>184.78</td>\n",
              "      <td>181.3300</td>\n",
              "      <td>184.67</td>\n",
              "      <td>16886563</td>\n",
              "    </tr>\n",
              "    <tr>\n",
              "      <th>2</th>\n",
              "      <td>2018-01-04</td>\n",
              "      <td>184.90</td>\n",
              "      <td>186.21</td>\n",
              "      <td>184.0996</td>\n",
              "      <td>184.33</td>\n",
              "      <td>13880896</td>\n",
              "    </tr>\n",
              "    <tr>\n",
              "      <th>3</th>\n",
              "      <td>2018-01-05</td>\n",
              "      <td>185.59</td>\n",
              "      <td>186.90</td>\n",
              "      <td>184.9300</td>\n",
              "      <td>186.85</td>\n",
              "      <td>13574535</td>\n",
              "    </tr>\n",
              "    <tr>\n",
              "      <th>4</th>\n",
              "      <td>2018-01-08</td>\n",
              "      <td>187.20</td>\n",
              "      <td>188.90</td>\n",
              "      <td>186.3300</td>\n",
              "      <td>188.28</td>\n",
              "      <td>17994726</td>\n",
              "    </tr>\n",
              "  </tbody>\n",
              "</table>\n",
              "</div>"
            ],
            "text/plain": [
              "         date    open    high       low   close    volume\n",
              "0  2018-01-02  177.68  181.58  177.5500  181.42  18151903\n",
              "1  2018-01-03  181.88  184.78  181.3300  184.67  16886563\n",
              "2  2018-01-04  184.90  186.21  184.0996  184.33  13880896\n",
              "3  2018-01-05  185.59  186.90  184.9300  186.85  13574535\n",
              "4  2018-01-08  187.20  188.90  186.3300  188.28  17994726"
            ]
          },
          "metadata": {},
          "execution_count": 77
        }
      ]
    },
    {
      "cell_type": "code",
      "metadata": {
        "colab": {
          "base_uri": "https://localhost:8080/",
          "height": 257
        },
        "id": "XzAUngZOjEdf",
        "outputId": "588ac424-0e3e-4a52-9c41-2397c5491de0"
      },
      "source": [
        "fb_stock = fb_stock.assign(week = pd.DatetimeIndex(fb_stock.date).week)\n",
        "fb_stock.head()"
      ],
      "execution_count": 78,
      "outputs": [
        {
          "output_type": "stream",
          "name": "stderr",
          "text": [
            "/usr/local/lib/python3.7/dist-packages/ipykernel_launcher.py:1: FutureWarning: weekofyear and week have been deprecated, please use DatetimeIndex.isocalendar().week instead, which returns a Series.  To exactly reproduce the behavior of week and weekofyear and return an Index, you may call pd.Int64Index(idx.isocalendar().week)\n",
            "  \"\"\"Entry point for launching an IPython kernel.\n"
          ]
        },
        {
          "output_type": "execute_result",
          "data": {
            "text/html": [
              "<div>\n",
              "<style scoped>\n",
              "    .dataframe tbody tr th:only-of-type {\n",
              "        vertical-align: middle;\n",
              "    }\n",
              "\n",
              "    .dataframe tbody tr th {\n",
              "        vertical-align: top;\n",
              "    }\n",
              "\n",
              "    .dataframe thead th {\n",
              "        text-align: right;\n",
              "    }\n",
              "</style>\n",
              "<table border=\"1\" class=\"dataframe\">\n",
              "  <thead>\n",
              "    <tr style=\"text-align: right;\">\n",
              "      <th></th>\n",
              "      <th>date</th>\n",
              "      <th>open</th>\n",
              "      <th>high</th>\n",
              "      <th>low</th>\n",
              "      <th>close</th>\n",
              "      <th>volume</th>\n",
              "      <th>week</th>\n",
              "    </tr>\n",
              "  </thead>\n",
              "  <tbody>\n",
              "    <tr>\n",
              "      <th>0</th>\n",
              "      <td>2018-01-02</td>\n",
              "      <td>177.68</td>\n",
              "      <td>181.58</td>\n",
              "      <td>177.5500</td>\n",
              "      <td>181.42</td>\n",
              "      <td>18151903</td>\n",
              "      <td>1</td>\n",
              "    </tr>\n",
              "    <tr>\n",
              "      <th>1</th>\n",
              "      <td>2018-01-03</td>\n",
              "      <td>181.88</td>\n",
              "      <td>184.78</td>\n",
              "      <td>181.3300</td>\n",
              "      <td>184.67</td>\n",
              "      <td>16886563</td>\n",
              "      <td>1</td>\n",
              "    </tr>\n",
              "    <tr>\n",
              "      <th>2</th>\n",
              "      <td>2018-01-04</td>\n",
              "      <td>184.90</td>\n",
              "      <td>186.21</td>\n",
              "      <td>184.0996</td>\n",
              "      <td>184.33</td>\n",
              "      <td>13880896</td>\n",
              "      <td>1</td>\n",
              "    </tr>\n",
              "    <tr>\n",
              "      <th>3</th>\n",
              "      <td>2018-01-05</td>\n",
              "      <td>185.59</td>\n",
              "      <td>186.90</td>\n",
              "      <td>184.9300</td>\n",
              "      <td>186.85</td>\n",
              "      <td>13574535</td>\n",
              "      <td>1</td>\n",
              "    </tr>\n",
              "    <tr>\n",
              "      <th>4</th>\n",
              "      <td>2018-01-08</td>\n",
              "      <td>187.20</td>\n",
              "      <td>188.90</td>\n",
              "      <td>186.3300</td>\n",
              "      <td>188.28</td>\n",
              "      <td>17994726</td>\n",
              "      <td>2</td>\n",
              "    </tr>\n",
              "  </tbody>\n",
              "</table>\n",
              "</div>"
            ],
            "text/plain": [
              "         date    open    high       low   close    volume  week\n",
              "0  2018-01-02  177.68  181.58  177.5500  181.42  18151903     1\n",
              "1  2018-01-03  181.88  184.78  181.3300  184.67  16886563     1\n",
              "2  2018-01-04  184.90  186.21  184.0996  184.33  13880896     1\n",
              "3  2018-01-05  185.59  186.90  184.9300  186.85  13574535     1\n",
              "4  2018-01-08  187.20  188.90  186.3300  188.28  17994726     2"
            ]
          },
          "metadata": {},
          "execution_count": 78
        }
      ]
    },
    {
      "cell_type": "code",
      "metadata": {
        "colab": {
          "base_uri": "https://localhost:8080/",
          "height": 234
        },
        "id": "AMxAjvmIlApf",
        "outputId": "bff6a1c7-beaa-4f46-c124-b80aa86d81f9"
      },
      "source": [
        "stock_diff = fb_stock.groupby('week').agg({'high':max,'low':min})\n",
        "stock_diff.head()"
      ],
      "execution_count": 79,
      "outputs": [
        {
          "output_type": "execute_result",
          "data": {
            "text/html": [
              "<div>\n",
              "<style scoped>\n",
              "    .dataframe tbody tr th:only-of-type {\n",
              "        vertical-align: middle;\n",
              "    }\n",
              "\n",
              "    .dataframe tbody tr th {\n",
              "        vertical-align: top;\n",
              "    }\n",
              "\n",
              "    .dataframe thead th {\n",
              "        text-align: right;\n",
              "    }\n",
              "</style>\n",
              "<table border=\"1\" class=\"dataframe\">\n",
              "  <thead>\n",
              "    <tr style=\"text-align: right;\">\n",
              "      <th></th>\n",
              "      <th>high</th>\n",
              "      <th>low</th>\n",
              "    </tr>\n",
              "    <tr>\n",
              "      <th>week</th>\n",
              "      <th></th>\n",
              "      <th></th>\n",
              "    </tr>\n",
              "  </thead>\n",
              "  <tbody>\n",
              "    <tr>\n",
              "      <th>1</th>\n",
              "      <td>186.90</td>\n",
              "      <td>129.95</td>\n",
              "    </tr>\n",
              "    <tr>\n",
              "      <th>2</th>\n",
              "      <td>188.90</td>\n",
              "      <td>177.40</td>\n",
              "    </tr>\n",
              "    <tr>\n",
              "      <th>3</th>\n",
              "      <td>182.37</td>\n",
              "      <td>175.80</td>\n",
              "    </tr>\n",
              "    <tr>\n",
              "      <th>4</th>\n",
              "      <td>190.66</td>\n",
              "      <td>180.41</td>\n",
              "    </tr>\n",
              "    <tr>\n",
              "      <th>5</th>\n",
              "      <td>195.32</td>\n",
              "      <td>181.84</td>\n",
              "    </tr>\n",
              "  </tbody>\n",
              "</table>\n",
              "</div>"
            ],
            "text/plain": [
              "        high     low\n",
              "week                \n",
              "1     186.90  129.95\n",
              "2     188.90  177.40\n",
              "3     182.37  175.80\n",
              "4     190.66  180.41\n",
              "5     195.32  181.84"
            ]
          },
          "metadata": {},
          "execution_count": 79
        }
      ]
    },
    {
      "cell_type": "code",
      "metadata": {
        "colab": {
          "base_uri": "https://localhost:8080/",
          "height": 234
        },
        "id": "6ppUHJF3la2N",
        "outputId": "9f79b0ca-8e04-4c1a-fe23-96b831155baf"
      },
      "source": [
        "stock_diff = stock_diff.assign(different = stock_diff.high - stock_diff.low)\n",
        "stock_diff.head()"
      ],
      "execution_count": 80,
      "outputs": [
        {
          "output_type": "execute_result",
          "data": {
            "text/html": [
              "<div>\n",
              "<style scoped>\n",
              "    .dataframe tbody tr th:only-of-type {\n",
              "        vertical-align: middle;\n",
              "    }\n",
              "\n",
              "    .dataframe tbody tr th {\n",
              "        vertical-align: top;\n",
              "    }\n",
              "\n",
              "    .dataframe thead th {\n",
              "        text-align: right;\n",
              "    }\n",
              "</style>\n",
              "<table border=\"1\" class=\"dataframe\">\n",
              "  <thead>\n",
              "    <tr style=\"text-align: right;\">\n",
              "      <th></th>\n",
              "      <th>high</th>\n",
              "      <th>low</th>\n",
              "      <th>different</th>\n",
              "    </tr>\n",
              "    <tr>\n",
              "      <th>week</th>\n",
              "      <th></th>\n",
              "      <th></th>\n",
              "      <th></th>\n",
              "    </tr>\n",
              "  </thead>\n",
              "  <tbody>\n",
              "    <tr>\n",
              "      <th>1</th>\n",
              "      <td>186.90</td>\n",
              "      <td>129.95</td>\n",
              "      <td>56.95</td>\n",
              "    </tr>\n",
              "    <tr>\n",
              "      <th>2</th>\n",
              "      <td>188.90</td>\n",
              "      <td>177.40</td>\n",
              "      <td>11.50</td>\n",
              "    </tr>\n",
              "    <tr>\n",
              "      <th>3</th>\n",
              "      <td>182.37</td>\n",
              "      <td>175.80</td>\n",
              "      <td>6.57</td>\n",
              "    </tr>\n",
              "    <tr>\n",
              "      <th>4</th>\n",
              "      <td>190.66</td>\n",
              "      <td>180.41</td>\n",
              "      <td>10.25</td>\n",
              "    </tr>\n",
              "    <tr>\n",
              "      <th>5</th>\n",
              "      <td>195.32</td>\n",
              "      <td>181.84</td>\n",
              "      <td>13.48</td>\n",
              "    </tr>\n",
              "  </tbody>\n",
              "</table>\n",
              "</div>"
            ],
            "text/plain": [
              "        high     low  different\n",
              "week                           \n",
              "1     186.90  129.95      56.95\n",
              "2     188.90  177.40      11.50\n",
              "3     182.37  175.80       6.57\n",
              "4     190.66  180.41      10.25\n",
              "5     195.32  181.84      13.48"
            ]
          },
          "metadata": {},
          "execution_count": 80
        }
      ]
    },
    {
      "cell_type": "code",
      "metadata": {
        "colab": {
          "base_uri": "https://localhost:8080/",
          "height": 379
        },
        "id": "1G_ttHokmhiX",
        "outputId": "6159406d-7db6-493e-c6fb-aba6a352690b"
      },
      "source": [
        "plt.plot(stock_diff.different, ':*b')\n",
        "plt.title('Stock Difference')\n",
        "plt.plot()"
      ],
      "execution_count": 81,
      "outputs": [
        {
          "output_type": "execute_result",
          "data": {
            "text/plain": [
              "[]"
            ]
          },
          "metadata": {},
          "execution_count": 81
        },
        {
          "output_type": "display_data",
          "data": {
            "image/png": "[encoded data removed]",
            "text/plain": [
              "<Figure size 576x396 with 1 Axes>"
            ]
          },
          "metadata": {}
        }
      ]
    },
    {
      "cell_type": "markdown",
      "metadata": {
        "id": "rNSEGPSOh8Af"
      },
      "source": [
        "**Exercise 2**"
      ]
    },
    {
      "cell_type": "code",
      "metadata": {
        "colab": {
          "base_uri": "https://localhost:8080/",
          "height": 203
        },
        "id": "k98L5EXHdVXh",
        "outputId": "d66084c3-1ff2-49db-87ec-5d2300922f61"
      },
      "source": [
        "fb_stock = fb_stock.assign(diffence = stock_diff.different)\n",
        "fb_stock.head()"
      ],
      "execution_count": 82,
      "outputs": [
        {
          "output_type": "execute_result",
          "data": {
            "text/html": [
              "<div>\n",
              "<style scoped>\n",
              "    .dataframe tbody tr th:only-of-type {\n",
              "        vertical-align: middle;\n",
              "    }\n",
              "\n",
              "    .dataframe tbody tr th {\n",
              "        vertical-align: top;\n",
              "    }\n",
              "\n",
              "    .dataframe thead th {\n",
              "        text-align: right;\n",
              "    }\n",
              "</style>\n",
              "<table border=\"1\" class=\"dataframe\">\n",
              "  <thead>\n",
              "    <tr style=\"text-align: right;\">\n",
              "      <th></th>\n",
              "      <th>date</th>\n",
              "      <th>open</th>\n",
              "      <th>high</th>\n",
              "      <th>low</th>\n",
              "      <th>close</th>\n",
              "      <th>volume</th>\n",
              "      <th>week</th>\n",
              "      <th>diffence</th>\n",
              "    </tr>\n",
              "  </thead>\n",
              "  <tbody>\n",
              "    <tr>\n",
              "      <th>0</th>\n",
              "      <td>2018-01-02</td>\n",
              "      <td>177.68</td>\n",
              "      <td>181.58</td>\n",
              "      <td>177.5500</td>\n",
              "      <td>181.42</td>\n",
              "      <td>18151903</td>\n",
              "      <td>1</td>\n",
              "      <td>NaN</td>\n",
              "    </tr>\n",
              "    <tr>\n",
              "      <th>1</th>\n",
              "      <td>2018-01-03</td>\n",
              "      <td>181.88</td>\n",
              "      <td>184.78</td>\n",
              "      <td>181.3300</td>\n",
              "      <td>184.67</td>\n",
              "      <td>16886563</td>\n",
              "      <td>1</td>\n",
              "      <td>56.95</td>\n",
              "    </tr>\n",
              "    <tr>\n",
              "      <th>2</th>\n",
              "      <td>2018-01-04</td>\n",
              "      <td>184.90</td>\n",
              "      <td>186.21</td>\n",
              "      <td>184.0996</td>\n",
              "      <td>184.33</td>\n",
              "      <td>13880896</td>\n",
              "      <td>1</td>\n",
              "      <td>11.50</td>\n",
              "    </tr>\n",
              "    <tr>\n",
              "      <th>3</th>\n",
              "      <td>2018-01-05</td>\n",
              "      <td>185.59</td>\n",
              "      <td>186.90</td>\n",
              "      <td>184.9300</td>\n",
              "      <td>186.85</td>\n",
              "      <td>13574535</td>\n",
              "      <td>1</td>\n",
              "      <td>6.57</td>\n",
              "    </tr>\n",
              "    <tr>\n",
              "      <th>4</th>\n",
              "      <td>2018-01-08</td>\n",
              "      <td>187.20</td>\n",
              "      <td>188.90</td>\n",
              "      <td>186.3300</td>\n",
              "      <td>188.28</td>\n",
              "      <td>17994726</td>\n",
              "      <td>2</td>\n",
              "      <td>10.25</td>\n",
              "    </tr>\n",
              "  </tbody>\n",
              "</table>\n",
              "</div>"
            ],
            "text/plain": [
              "         date    open    high       low   close    volume  week  diffence\n",
              "0  2018-01-02  177.68  181.58  177.5500  181.42  18151903     1       NaN\n",
              "1  2018-01-03  181.88  184.78  181.3300  184.67  16886563     1     56.95\n",
              "2  2018-01-04  184.90  186.21  184.0996  184.33  13880896     1     11.50\n",
              "3  2018-01-05  185.59  186.90  184.9300  186.85  13574535     1      6.57\n",
              "4  2018-01-08  187.20  188.90  186.3300  188.28  17994726     2     10.25"
            ]
          },
          "metadata": {},
          "execution_count": 82
        }
      ]
    },
    {
      "cell_type": "code",
      "metadata": {
        "id": "W4xtYXYqn3H-",
        "colab": {
          "base_uri": "https://localhost:8080/",
          "height": 397
        },
        "outputId": "9579025d-817d-4f65-90e1-5b4f9d473bc5"
      },
      "source": [
        "fb_stock.plot(kind='scatter', x='volume', y='diffence', title='Facebook Daily High - Low vs. Volume Traded', logx=True)"
      ],
      "execution_count": 83,
      "outputs": [
        {
          "output_type": "execute_result",
          "data": {
            "text/plain": [
              "<matplotlib.axes._subplots.AxesSubplot at 0x7f64f3097650>"
            ]
          },
          "metadata": {},
          "execution_count": 83
        },
        {
          "output_type": "display_data",
          "data": {
            "image/png": "[encoded data removed]",
            "text/plain": [
              "<Figure size 576x396 with 1 Axes>"
            ]
          },
          "metadata": {}
        }
      ]
    },
    {
      "cell_type": "markdown",
      "metadata": {
        "id": "toYdlsl3w0Oz"
      },
      "source": [
        "**Exercise 3**"
      ]
    },
    {
      "cell_type": "code",
      "metadata": {
        "colab": {
          "base_uri": "https://localhost:8080/",
          "height": 203
        },
        "id": "QuadTAu2iURb",
        "outputId": "ef9c0056-b8be-47f0-d564-85f8d6baed9d"
      },
      "source": [
        "earth = pd.read_csv('/content/earthquakes (1).csv')\n",
        "earth.head()"
      ],
      "execution_count": 84,
      "outputs": [
        {
          "output_type": "execute_result",
          "data": {
            "text/html": [
              "<div>\n",
              "<style scoped>\n",
              "    .dataframe tbody tr th:only-of-type {\n",
              "        vertical-align: middle;\n",
              "    }\n",
              "\n",
              "    .dataframe tbody tr th {\n",
              "        vertical-align: top;\n",
              "    }\n",
              "\n",
              "    .dataframe thead th {\n",
              "        text-align: right;\n",
              "    }\n",
              "</style>\n",
              "<table border=\"1\" class=\"dataframe\">\n",
              "  <thead>\n",
              "    <tr style=\"text-align: right;\">\n",
              "      <th></th>\n",
              "      <th>mag</th>\n",
              "      <th>magType</th>\n",
              "      <th>time</th>\n",
              "      <th>place</th>\n",
              "      <th>tsunami</th>\n",
              "      <th>parsed_place</th>\n",
              "    </tr>\n",
              "  </thead>\n",
              "  <tbody>\n",
              "    <tr>\n",
              "      <th>0</th>\n",
              "      <td>1.35</td>\n",
              "      <td>ml</td>\n",
              "      <td>1539475168010</td>\n",
              "      <td>9km NE of Aguanga, CA</td>\n",
              "      <td>0</td>\n",
              "      <td>California</td>\n",
              "    </tr>\n",
              "    <tr>\n",
              "      <th>1</th>\n",
              "      <td>1.29</td>\n",
              "      <td>ml</td>\n",
              "      <td>1539475129610</td>\n",
              "      <td>9km NE of Aguanga, CA</td>\n",
              "      <td>0</td>\n",
              "      <td>California</td>\n",
              "    </tr>\n",
              "    <tr>\n",
              "      <th>2</th>\n",
              "      <td>3.42</td>\n",
              "      <td>ml</td>\n",
              "      <td>1539475062610</td>\n",
              "      <td>8km NE of Aguanga, CA</td>\n",
              "      <td>0</td>\n",
              "      <td>California</td>\n",
              "    </tr>\n",
              "    <tr>\n",
              "      <th>3</th>\n",
              "      <td>0.44</td>\n",
              "      <td>ml</td>\n",
              "      <td>1539474978070</td>\n",
              "      <td>9km NE of Aguanga, CA</td>\n",
              "      <td>0</td>\n",
              "      <td>California</td>\n",
              "    </tr>\n",
              "    <tr>\n",
              "      <th>4</th>\n",
              "      <td>2.16</td>\n",
              "      <td>md</td>\n",
              "      <td>1539474716050</td>\n",
              "      <td>10km NW of Avenal, CA</td>\n",
              "      <td>0</td>\n",
              "      <td>California</td>\n",
              "    </tr>\n",
              "  </tbody>\n",
              "</table>\n",
              "</div>"
            ],
            "text/plain": [
              "    mag magType           time                  place  tsunami parsed_place\n",
              "0  1.35      ml  1539475168010  9km NE of Aguanga, CA        0   California\n",
              "1  1.29      ml  1539475129610  9km NE of Aguanga, CA        0   California\n",
              "2  3.42      ml  1539475062610  8km NE of Aguanga, CA        0   California\n",
              "3  0.44      ml  1539474978070  9km NE of Aguanga, CA        0   California\n",
              "4  2.16      md  1539474716050  10km NW of Avenal, CA        0   California"
            ]
          },
          "metadata": {},
          "execution_count": 84
        }
      ]
    },
    {
      "cell_type": "code",
      "metadata": {
        "colab": {
          "base_uri": "https://localhost:8080/",
          "height": 417
        },
        "id": "TF9GETIA3X25",
        "outputId": "284a5853-6639-49fd-8b21-fa4da9d9e206"
      },
      "source": [
        "earth_indo = earth[earth.parsed_place.str.contains('Indonesia')]\n",
        "earth_indo"
      ],
      "execution_count": 85,
      "outputs": [
        {
          "output_type": "execute_result",
          "data": {
            "text/html": [
              "<div>\n",
              "<style scoped>\n",
              "    .dataframe tbody tr th:only-of-type {\n",
              "        vertical-align: middle;\n",
              "    }\n",
              "\n",
              "    .dataframe tbody tr th {\n",
              "        vertical-align: top;\n",
              "    }\n",
              "\n",
              "    .dataframe thead th {\n",
              "        text-align: right;\n",
              "    }\n",
              "</style>\n",
              "<table border=\"1\" class=\"dataframe\">\n",
              "  <thead>\n",
              "    <tr style=\"text-align: right;\">\n",
              "      <th></th>\n",
              "      <th>mag</th>\n",
              "      <th>magType</th>\n",
              "      <th>time</th>\n",
              "      <th>place</th>\n",
              "      <th>tsunami</th>\n",
              "      <th>parsed_place</th>\n",
              "    </tr>\n",
              "  </thead>\n",
              "  <tbody>\n",
              "    <tr>\n",
              "      <th>9</th>\n",
              "      <td>4.7</td>\n",
              "      <td>mb</td>\n",
              "      <td>1539472814760</td>\n",
              "      <td>219km SSE of Saparua, Indonesia</td>\n",
              "      <td>0</td>\n",
              "      <td>Indonesia</td>\n",
              "    </tr>\n",
              "    <tr>\n",
              "      <th>13</th>\n",
              "      <td>4.5</td>\n",
              "      <td>mb</td>\n",
              "      <td>1539470898340</td>\n",
              "      <td>120km SSW of Banda Aceh, Indonesia</td>\n",
              "      <td>0</td>\n",
              "      <td>Indonesia</td>\n",
              "    </tr>\n",
              "    <tr>\n",
              "      <th>180</th>\n",
              "      <td>5.2</td>\n",
              "      <td>mww</td>\n",
              "      <td>1539405255580</td>\n",
              "      <td>25km E of Bitung, Indonesia</td>\n",
              "      <td>0</td>\n",
              "      <td>Indonesia</td>\n",
              "    </tr>\n",
              "    <tr>\n",
              "      <th>421</th>\n",
              "      <td>4.7</td>\n",
              "      <td>mb</td>\n",
              "      <td>1539331098920</td>\n",
              "      <td>38km SSW of Nggongi Satu, Indonesia</td>\n",
              "      <td>0</td>\n",
              "      <td>Indonesia</td>\n",
              "    </tr>\n",
              "    <tr>\n",
              "      <th>660</th>\n",
              "      <td>4.4</td>\n",
              "      <td>mb</td>\n",
              "      <td>1539258833830</td>\n",
              "      <td>51km WSW of Kasiguncu, Indonesia</td>\n",
              "      <td>0</td>\n",
              "      <td>Indonesia</td>\n",
              "    </tr>\n",
              "    <tr>\n",
              "      <th>...</th>\n",
              "      <td>...</td>\n",
              "      <td>...</td>\n",
              "      <td>...</td>\n",
              "      <td>...</td>\n",
              "      <td>...</td>\n",
              "      <td>...</td>\n",
              "    </tr>\n",
              "    <tr>\n",
              "      <th>9041</th>\n",
              "      <td>4.3</td>\n",
              "      <td>mb</td>\n",
              "      <td>1537296305750</td>\n",
              "      <td>7km WSW of Karangsubagan, Indonesia</td>\n",
              "      <td>0</td>\n",
              "      <td>Indonesia</td>\n",
              "    </tr>\n",
              "    <tr>\n",
              "      <th>9075</th>\n",
              "      <td>4.4</td>\n",
              "      <td>mb</td>\n",
              "      <td>1537288723310</td>\n",
              "      <td>103km W of Kuripan, Indonesia</td>\n",
              "      <td>0</td>\n",
              "      <td>Indonesia</td>\n",
              "    </tr>\n",
              "    <tr>\n",
              "      <th>9108</th>\n",
              "      <td>4.0</td>\n",
              "      <td>mb</td>\n",
              "      <td>1537280181100</td>\n",
              "      <td>123km NE of Bitung, Indonesia</td>\n",
              "      <td>0</td>\n",
              "      <td>Indonesia</td>\n",
              "    </tr>\n",
              "    <tr>\n",
              "      <th>9209</th>\n",
              "      <td>4.7</td>\n",
              "      <td>mb</td>\n",
              "      <td>1537256021950</td>\n",
              "      <td>18km NE of Reuleuet, Indonesia</td>\n",
              "      <td>0</td>\n",
              "      <td>Indonesia</td>\n",
              "    </tr>\n",
              "    <tr>\n",
              "      <th>9212</th>\n",
              "      <td>4.7</td>\n",
              "      <td>mb</td>\n",
              "      <td>1537255636260</td>\n",
              "      <td>2km ESE of Lokokrangan, Indonesia</td>\n",
              "      <td>0</td>\n",
              "      <td>Indonesia</td>\n",
              "    </tr>\n",
              "  </tbody>\n",
              "</table>\n",
              "<p>147 rows × 6 columns</p>\n",
              "</div>"
            ],
            "text/plain": [
              "      mag magType  ...  tsunami parsed_place\n",
              "9     4.7      mb  ...        0    Indonesia\n",
              "13    4.5      mb  ...        0    Indonesia\n",
              "180   5.2     mww  ...        0    Indonesia\n",
              "421   4.7      mb  ...        0    Indonesia\n",
              "660   4.4      mb  ...        0    Indonesia\n",
              "...   ...     ...  ...      ...          ...\n",
              "9041  4.3      mb  ...        0    Indonesia\n",
              "9075  4.4      mb  ...        0    Indonesia\n",
              "9108  4.0      mb  ...        0    Indonesia\n",
              "9209  4.7      mb  ...        0    Indonesia\n",
              "9212  4.7      mb  ...        0    Indonesia\n",
              "\n",
              "[147 rows x 6 columns]"
            ]
          },
          "metadata": {},
          "execution_count": 85
        }
      ]
    },
    {
      "cell_type": "code",
      "metadata": {
        "colab": {
          "base_uri": "https://localhost:8080/",
          "height": 462
        },
        "id": "vGtZBk8yxFqg",
        "outputId": "03643a35-28b5-429c-a96e-a35a186c4d29"
      },
      "source": [
        "earth_indo.boxplot(column='mag', by='magType')"
      ],
      "execution_count": 86,
      "outputs": [
        {
          "output_type": "stream",
          "name": "stderr",
          "text": [
            "/usr/local/lib/python3.7/dist-packages/numpy/core/_asarray.py:83: VisibleDeprecationWarning: Creating an ndarray from ragged nested sequences (which is a list-or-tuple of lists-or-tuples-or ndarrays with different lengths or shapes) is deprecated. If you meant to do this, you must specify 'dtype=object' when creating the ndarray\n",
            "  return array(a, dtype, copy=False, order=order)\n"
          ]
        },
        {
          "output_type": "execute_result",
          "data": {
            "text/plain": [
              "<matplotlib.axes._subplots.AxesSubplot at 0x7f64f2f10550>"
            ]
          },
          "metadata": {},
          "execution_count": 86
        },
        {
          "output_type": "display_data",
          "data": {
            "image/png": "[encoded data removed]",
            "text/plain": [
              "<Figure size 576x396 with 1 Axes>"
            ]
          },
          "metadata": {}
        }
      ]
    },
    {
      "cell_type": "code",
      "metadata": {
        "id": "tPc_fo3J8bjR"
      },
      "source": [
        ""
      ],
      "execution_count": 86,
      "outputs": []
    }
  ]
}